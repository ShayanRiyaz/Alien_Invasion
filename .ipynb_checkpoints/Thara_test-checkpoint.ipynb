{
 "cells": [
  {
   "cell_type": "code",
   "execution_count": 18,
   "metadata": {},
   "outputs": [
    {
     "data": {
      "text/plain": [
       "<Figure size 432x288 with 0 Axes>"
      ]
     },
     "metadata": {},
     "output_type": "display_data"
    }
   ],
   "source": [
    "import math\n",
    "from typing import Optional, Union, Tuple\n",
    "\n",
    "import numpy as np\n",
    "import matplotlib\n",
    "import matplotlib.pyplot as plt\n",
    "from matplotlib.animation import FuncAnimation\n",
    "from matplotlib import style\n",
    "from numpy.core._multiarray_umath import ndarray\n",
    "\n",
    "ro = 10000.0  # m\n",
    "rb = 1000.0  # m\n",
    "topdepth = 1500  # m\n",
    "H = 50  # m\n",
    "permeability = 5.0e-14  # m^-2\n",
    "Swr = 0\n",
    "krco2 = 1\n",
    "krw = 1\n",
    "por = 0.15\n",
    "c = 4.2e-10\n",
    "dco2 = 479  # kg/m3\n",
    "visco2 = 0.0000395\n",
    "dw = 1045  # kg/m3\n",
    "visw = 0.0002535\n",
    "Q = 2e6  # m3/year\n",
    "# t = 1.0 #year\n",
    "mobco2 = krco2 / visco2\n",
    "mobw = krw / visw\n",
    "\n",
    "fig = plt.figure()\n",
    "\n",
    "\n",
    "def h(r: float, t: float) -> float:\n",
    "    rt = math.sqrt((mobco2 * Q) / (por * math.pi * mobw * H)) * math.sqrt(t)\n",
    "    psi = math.sqrt((Q * t) / (math.pi * H * por))\n",
    "    return ((((math.sqrt(mobco2 * mobw) * psi / r) - mobw) / (mobco2 - mobw)) * H)\n",
    "    \n",
    "    #if (r.any() < rt and r.any() > rb):\n",
    "        #return ((((math.sqrt(mobco2 * mobw) * psi / r) - mobw) / (mobco2 - mobw)) * H)\n",
    "\n",
    "def animate(i):\n",
    "    plt.ylim(-1560, -1480)\n",
    "    plt.xlim(0, 10000)\n",
    "    x1 = range(0, 12000, 1000)\n",
    "    y1 = np.repeat(-1500, len(x1))\n",
    "    plt.plot(x1, y1)\n",
    "    x2 = range(0, 12000, 1000)\n",
    "    y2 = np.repeat(-1550, len(x1))\n",
    "    plt.plot(x2, y2)\n",
    "    x = np.linspace(0, ro, 100)\n",
    "    y = -(topdepth + (h(x, i)))\n",
    "    plt.plot(x, y)\n",
    "\n",
    "    print (y)\n",
    "\n",
    "\n",
    "\n",
    "    \n",
    "#if __init__ == \"__main__\":\n",
    "ani = FuncAnimation(fig=fig, func=animate, frames=range(1, 50, 1), interval=1000, repeat=True)\n",
    "plt.show()\n"
   ]
  },
  {
   "cell_type": "code",
   "execution_count": null,
   "metadata": {},
   "outputs": [],
   "source": [
    "\n",
    "ani = FuncAnimation(fig=fig, func=animate, frames=range(1, 50, 1), interval=1000, repeat=True)\n",
    "plt.show()"
   ]
  },
  {
   "cell_type": "code",
   "execution_count": null,
   "metadata": {},
   "outputs": [],
   "source": []
  },
  {
   "cell_type": "code",
   "execution_count": null,
   "metadata": {},
   "outputs": [],
   "source": [
    "x = np.array([1,2,3,4,5,6,7])\n",
    "x.shape\n",
    "\n",
    "#x = np.array([])\n",
    "#x.shape\n",
    "\n",
    "for i in range(0,len(x)):\n",
    "    #for j in range(0,len(x)):\n",
    "        print(x[i])"
   ]
  },
  {
   "cell_type": "code",
   "execution_count": 42,
   "metadata": {},
   "outputs": [
    {
     "name": "stdout",
     "output_type": "stream",
     "text": [
      "Output Shape:  (100,)\n"
     ]
    },
    {
     "name": "stderr",
     "output_type": "stream",
     "text": [
      "/Users/shayanriyaz/opt/anaconda3/lib/python3.7/site-packages/ipykernel_launcher.py:24: RuntimeWarning: divide by zero encountered in true_divide\n"
     ]
    }
   ],
   "source": [
    "ro = 10000.0  # m\n",
    "rb = 1000.0  # m\n",
    "topdepth = 1500  # m\n",
    "H = 50  # m\n",
    "permeability = 5.0e-14  # m^-2\n",
    "Swr = 0\n",
    "krco2 = 1\n",
    "krw = 1\n",
    "por = 0.15\n",
    "c = 4.2e-10\n",
    "dco2 = 479  # kg/m3\n",
    "visco2 = 0.0000395\n",
    "dw = 1045  # kg/m3\n",
    "visw = 0.0002535\n",
    "Q = 2e6  # m3/year\n",
    "# t = 1.0 #year\n",
    "mobco2 = krco2 / visco2\n",
    "mobw = krw / visw\n",
    "\n",
    "def h(r: float, t: float) -> float:\n",
    "    rt = math.sqrt((mobco2 * Q) / (por * math.pi * mobw * H)) * math.sqrt(t)\n",
    "    psi = math.sqrt((Q * t) / (math.pi * H * por))\n",
    "    \n",
    "    output = ((((math.sqrt(mobco2 * mobw) * psi / r) - mobw) / (mobco2 - mobw)) * H)\n",
    "    print(\"Output Shape: \",output.shape)\n",
    "    return output\n",
    "\n",
    "\n",
    "x = np.linspace(0, ro, 100)\n",
    "y = -(topdepth + (h(x, 5)))\n",
    "#h(x,i)\n",
    "\n"
   ]
  },
  {
   "cell_type": "code",
   "execution_count": 43,
   "metadata": {},
   "outputs": [
    {
     "data": {
      "text/plain": [
       "array([          -inf, -1641.56132177, -1566.1661749 , -1541.03445928,\n",
       "       -1528.46860147, -1520.92908678, -1515.90274366, -1512.31249857,\n",
       "       -1509.61981475, -1507.52550512, -1505.85005741, -1504.47923656,\n",
       "       -1503.33688585, -1502.3702814 , -1501.5417633 , -1500.82371429,\n",
       "       -1500.1954214 , -1499.64104532, -1499.14826658, -1498.70735929,\n",
       "       -1498.31054272, -1497.95151822, -1497.6251323 , -1497.32712776,\n",
       "       -1497.05395694, -1496.80263979, -1496.57065472, -1496.35585373,\n",
       "       -1496.15639567, -1495.97069334, -1495.79737116, -1495.63523106,\n",
       "       -1495.48322472, -1495.34043088, -1495.20603668, -1495.07932214,\n",
       "       -1494.95964731, -1494.84644138, -1494.73919366, -1494.63744583,\n",
       "       -1494.54078538, -1494.44884008, -1494.36127313, -1494.27777905,\n",
       "       -1494.19808017, -1494.12192345, -1494.0490779 , -1493.97933216,\n",
       "       -1493.91249249, -1493.84838097, -1493.78683391, -1493.72770046,\n",
       "       -1493.67084138, -1493.61612792, -1493.56344088, -1493.51266974,\n",
       "       -1493.46371185, -1493.41647179, -1493.37086069, -1493.32679573,\n",
       "       -1493.2841996 , -1493.24300007, -1493.20312955, -1493.16452476,\n",
       "       -1493.12712638, -1493.09087871, -1493.05572946, -1493.02162944,\n",
       "       -1492.98853236, -1492.95639461, -1492.92517509, -1492.89483499,\n",
       "       -1492.86533767, -1492.8366485 , -1492.80873471, -1492.78156529,\n",
       "       -1492.75511085, -1492.72934354, -1492.70423693, -1492.67976593,\n",
       "       -1492.65590671, -1492.6326366 , -1492.60993406, -1492.58777856,\n",
       "       -1492.56615058, -1492.54503149, -1492.52440355, -1492.5042498 ,\n",
       "       -1492.4845541 , -1492.465301  , -1492.44647575, -1492.42806423,\n",
       "       -1492.41005297, -1492.39242905, -1492.3751801 , -1492.35829429,\n",
       "       -1492.34176026, -1492.32556715, -1492.3097045 , -1492.29416232])"
      ]
     },
     "execution_count": 43,
     "metadata": {},
     "output_type": "execute_result"
    }
   ],
   "source": [
    "y"
   ]
  },
  {
   "cell_type": "code",
   "execution_count": 44,
   "metadata": {},
   "outputs": [
    {
     "name": "stdout",
     "output_type": "stream",
     "text": [
      "-inf\n",
      "-1641.5613217674638\n",
      "-1566.1661749024236\n",
      "-1541.0344592807435\n",
      "-1528.4686014699032\n",
      "-1520.9290867833993\n",
      "-1515.9027436590632\n",
      "-1512.3124985702518\n",
      "-1509.6198147536431\n",
      "-1507.5255051185031\n",
      "-1505.8500574103912\n",
      "-1504.4792365582996\n",
      "-1503.3368858482231\n",
      "-1502.3702814012356\n",
      "-1501.5417633038176\n",
      "-1500.8237142860553\n",
      "-1500.1954213955132\n",
      "-1499.6410453156232\n",
      "-1499.148266577943\n",
      "-1498.7073592863348\n",
      "-1498.3105427238872\n",
      "-1497.951518215006\n",
      "-1497.6251322978414\n",
      "-1497.327127764778\n",
      "-1497.053956942803\n",
      "-1496.8026397865865\n",
      "-1496.5706547193095\n",
      "-1496.3558537310898\n",
      "-1496.1563956706004\n",
      "-1495.9706933384205\n",
      "-1495.7973711617192\n",
      "-1495.635231060934\n",
      "-1495.4832247164481\n",
      "-1495.3404308776887\n",
      "-1495.2060366765031\n",
      "-1495.079322143957\n",
      "-1494.959647307663\n",
      "-1494.8464413814395\n",
      "-1494.739193661859\n",
      "-1494.637445825334\n",
      "-1494.5407853806353\n",
      "-1494.4488400795803\n",
      "-1494.3612731261946\n",
      "-1494.2777790543619\n",
      "-1494.1980801676123\n",
      "-1494.1219234536072\n",
      "-1494.0490779010806\n",
      "-1493.9793321592997\n",
      "-1493.9124924900932\n",
      "-1493.8483809706502\n",
      "-1493.7868339119848\n",
      "-1493.7277004634632\n",
      "-1493.6708413783463\n",
      "-1493.6161279190828\n",
      "-1493.5634408842366\n",
      "-1493.5126697415665\n",
      "-1493.4637118539918\n",
      "-1493.4164717870337\n",
      "-1493.3708606879018\n",
      "-1493.3267957277235\n",
      "-1493.2841995995511\n",
      "-1493.2430000657453\n",
      "-1493.2031295491586\n",
      "-1493.1645247632575\n",
      "-1493.1271263769156\n",
      "-1493.0908787101537\n",
      "-1493.055729457536\n",
      "-1493.0216294363397\n",
      "-1492.988532356943\n",
      "-1492.9563946131814\n",
      "-1492.92517509067\n",
      "-1492.894834991328\n",
      "-1492.865337672523\n",
      "-1492.836648499439\n",
      "-1492.8087347094113\n",
      "-1492.7815652871175\n",
      "-1492.7551108496211\n",
      "-1492.7293435403712\n",
      "-1492.7042369313585\n",
      "-1492.6797659327005\n",
      "-1492.6559067090093\n",
      "-1492.632636601952\n",
      "-1492.6099340584817\n",
      "-1492.5877785642517\n",
      "-1492.5661505817889\n",
      "-1492.5450314930313\n",
      "-1492.5244035458725\n",
      "-1492.5042498043956\n",
      "-1492.4845541024977\n",
      "-1492.4653010006425\n",
      "-1492.4464757454953\n",
      "-1492.4280642322192\n",
      "-1492.4100529692319\n",
      "-1492.3924290452335\n",
      "-1492.3751800983414\n",
      "-1492.3582942871735\n",
      "-1492.3417602637383\n",
      "-1492.3255671480026\n",
      "-1492.3097045040167\n",
      "-1492.294162317485\n"
     ]
    }
   ],
   "source": [
    "# Plot limits\n",
    "y_lim = -1560.00\n",
    "x_lim = -1480.00\n",
    "\n",
    "for val in range(0,len(y)):\n",
    "    print(y[val])\n",
    "    if y[val] < y_lim:\n",
    "        y[val] = y_lim\n",
    "    elif y[val] > x_lim:\n",
    "        y[val] = x_lim\n",
    "            \n"
   ]
  },
  {
   "cell_type": "code",
   "execution_count": 45,
   "metadata": {},
   "outputs": [
    {
     "data": {
      "text/plain": [
       "array([-1480., -1480., -1480., -1560., -1560., -1560., -1560., -1560.,\n",
       "       -1560., -1560., -1560., -1560., -1560., -1560., -1560., -1560.,\n",
       "       -1560., -1560., -1560., -1560., -1560., -1560., -1560., -1560.,\n",
       "       -1560., -1560., -1560., -1560., -1560., -1560., -1560., -1560.,\n",
       "       -1560., -1560., -1560., -1560., -1560., -1560., -1560., -1560.,\n",
       "       -1560., -1560., -1560., -1560., -1560., -1560., -1560., -1560.,\n",
       "       -1560., -1560., -1560., -1560., -1560., -1560., -1560., -1560.,\n",
       "       -1560., -1560., -1560., -1560., -1560., -1560., -1560., -1560.,\n",
       "       -1560., -1560., -1560., -1560., -1560., -1560., -1560., -1560.,\n",
       "       -1560., -1560., -1560., -1560., -1560., -1560., -1560., -1560.,\n",
       "       -1560., -1560., -1560., -1560., -1560., -1560., -1560., -1560.,\n",
       "       -1560., -1560., -1560., -1560., -1560., -1560., -1560., -1560.,\n",
       "       -1560., -1560., -1560., -1560.])"
      ]
     },
     "execution_count": 45,
     "metadata": {},
     "output_type": "execute_result"
    }
   ],
   "source": [
    "y"
   ]
  },
  {
   "cell_type": "code",
   "execution_count": null,
   "metadata": {},
   "outputs": [],
   "source": [
    "\n",
    "# Plot limits\n",
    "y_lim = -1560\n",
    "x_lim = -1480\n",
    "\n",
    "for val in range(0,len(output)):\n",
    "    if output[val] > y_lim:\n",
    "        output[val] = y_lim\n",
    "    elif output[val] < x_lim:\n",
    "        output[val] = x_lim\n",
    "            \n",
    "output"
   ]
  },
  {
   "cell_type": "code",
   "execution_count": null,
   "metadata": {},
   "outputs": [],
   "source": [
    "output"
   ]
  },
  {
   "cell_type": "code",
   "execution_count": null,
   "metadata": {},
   "outputs": [],
   "source": [
    "print(output)"
   ]
  },
  {
   "cell_type": "code",
   "execution_count": null,
   "metadata": {},
   "outputs": [],
   "source": []
  },
  {
   "cell_type": "code",
   "execution_count": null,
   "metadata": {},
   "outputs": [],
   "source": [
    "np.set_printoptions(precision=5)\n",
    "np.set_printoptions(suppress=False)"
   ]
  },
  {
   "cell_type": "code",
   "execution_count": null,
   "metadata": {},
   "outputs": [],
   "source": [
    "output"
   ]
  },
  {
   "cell_type": "code",
   "execution_count": 32,
   "metadata": {},
   "outputs": [
    {
     "data": {
      "text/plain": [
       "False"
      ]
     },
     "execution_count": 32,
     "metadata": {},
     "output_type": "execute_result"
    }
   ],
   "source": [
    "x = [1,2,3,4,5,6,7,8]\n",
    "\n",
    "x[0] == 3\n"
   ]
  },
  {
   "cell_type": "code",
   "execution_count": 41,
   "metadata": {},
   "outputs": [
    {
     "data": {
      "text/plain": [
       "True"
      ]
     },
     "execution_count": 41,
     "metadata": {},
     "output_type": "execute_result"
    }
   ],
   "source": [
    "-1497.053956942803 < x_lim"
   ]
  },
  {
   "cell_type": "code",
   "execution_count": null,
   "metadata": {},
   "outputs": [],
   "source": []
  }
 ],
 "metadata": {
  "kernelspec": {
   "display_name": "Python 3",
   "language": "python",
   "name": "python3"
  },
  "language_info": {
   "codemirror_mode": {
    "name": "ipython",
    "version": 3
   },
   "file_extension": ".py",
   "mimetype": "text/x-python",
   "name": "python",
   "nbconvert_exporter": "python",
   "pygments_lexer": "ipython3",
   "version": "3.7.4"
  }
 },
 "nbformat": 4,
 "nbformat_minor": 2
}
